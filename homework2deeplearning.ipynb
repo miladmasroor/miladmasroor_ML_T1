{
 "cells": [
  {
   "cell_type": "code",
   "execution_count": 1,
   "metadata": {},
   "outputs": [],
   "source": [
    "import keras\n",
    "from keras import layers\n",
    "from keras.models import Sequential\n",
    "from keras.layers import Dense, Activation, Flatten, Dropout\n",
    "from keras.layers import Conv2D, MaxPooling2D\n",
    "from keras.datasets import cifar10\n",
    "import numpy as np\n",
    "import matplotlib.pyplot as plt\n",
    "%matplotlib inline"
   ]
  },
  {
   "cell_type": "code",
   "execution_count": 2,
   "metadata": {},
   "outputs": [],
   "source": [
    "(x_train, y_train), (x_test, y_test) = cifar10.load_data()"
   ]
  },
  {
   "cell_type": "code",
   "execution_count": 3,
   "metadata": {},
   "outputs": [
    {
     "data": {
      "text/plain": [
       "(32, 32, 3)"
      ]
     },
     "execution_count": 3,
     "metadata": {},
     "output_type": "execute_result"
    },
    {
     "data": {
      "image/png": "[encoded data removed]",
      "text/plain": [
       "<Figure size 432x288 with 1 Axes>"
      ]
     },
     "metadata": {
      "needs_background": "light"
     },
     "output_type": "display_data"
    }
   ],
   "source": [
    "plt.imshow(x_train[7])\n",
    "x_train[7].shape"
   ]
  },
  {
   "cell_type": "code",
   "execution_count": 4,
   "metadata": {},
   "outputs": [],
   "source": [
    "# Preprocess input data\n",
    "''' 3.1: input data in numpy array format'''\n",
    "x_train = np.array(x_train)\n",
    "x_test = np.array(x_test)\n",
    "'''3.2 normalize our data values to the range [0, 1]'''\n",
    "x_train = x_train.astype('float32')\n",
    "x_test = x_test.astype('float32')\n",
    "x_train /= 255\n",
    "x_test /= 255"
   ]
  },
  {
   "cell_type": "code",
   "execution_count": 5,
   "metadata": {},
   "outputs": [],
   "source": [
    "y_train = keras.utils.to_categorical(y_train, num_classes=10)\n",
    "y_test = keras.utils.to_categorical(y_test, num_classes=10)"
   ]
  },
  {
   "cell_type": "code",
   "execution_count": 6,
   "metadata": {},
   "outputs": [
    {
     "data": {
      "text/plain": [
       "array([[0., 0., 0., 0., 0., 0., 1., 0., 0., 0.],\n",
       "       [0., 0., 0., 0., 0., 0., 0., 0., 0., 1.],\n",
       "       [0., 0., 0., 0., 0., 0., 0., 0., 0., 1.],\n",
       "       [0., 0., 0., 0., 1., 0., 0., 0., 0., 0.],\n",
       "       [0., 1., 0., 0., 0., 0., 0., 0., 0., 0.],\n",
       "       [0., 1., 0., 0., 0., 0., 0., 0., 0., 0.],\n",
       "       [0., 0., 1., 0., 0., 0., 0., 0., 0., 0.],\n",
       "       [0., 0., 0., 0., 0., 0., 0., 1., 0., 0.],\n",
       "       [0., 0., 0., 0., 0., 0., 0., 0., 1., 0.],\n",
       "       [0., 0., 0., 1., 0., 0., 0., 0., 0., 0.]], dtype=float32)"
      ]
     },
     "execution_count": 6,
     "metadata": {},
     "output_type": "execute_result"
    }
   ],
   "source": [
    "y_train[0:10]"
   ]
  },
  {
   "cell_type": "code",
   "execution_count": 7,
   "metadata": {},
   "outputs": [],
   "source": [
    "# 5. Define model architecture\n",
    "model = Sequential()\n",
    "model.add(layers.Conv2D(32, (3, 3), activation='relu',\n",
    "                        input_shape=(32, 32, 3)))\n",
    "model.add(layers.MaxPooling2D((2, 2)))\n",
    "model.add(layers.Conv2D(32, (3, 3), activation='relu'))\n",
    "model.add(layers.MaxPooling2D((2, 2)))\n",
    "model.add(layers.Conv2D(64, (3, 3), activation='relu'))\n",
    "model.add(layers.MaxPooling2D((2, 2)))\n",
    "model.add(layers.Flatten())\n",
    "model.add(Dropout(0.5))\n",
    "model.add(layers.Dense(10, activation='softmax'))"
   ]
  },
  {
   "cell_type": "code",
   "execution_count": 8,
   "metadata": {},
   "outputs": [
    {
     "name": "stdout",
     "output_type": "stream",
     "text": [
      "Model: \"sequential\"\n",
      "_________________________________________________________________\n",
      "Layer (type)                 Output Shape              Param #   \n",
      "=================================================================\n",
      "conv2d (Conv2D)              (None, 30, 30, 32)        896       \n",
      "_________________________________________________________________\n",
      "max_pooling2d (MaxPooling2D) (None, 15, 15, 32)        0         \n",
      "_________________________________________________________________\n",
      "conv2d_1 (Conv2D)            (None, 13, 13, 32)        9248      \n",
      "_________________________________________________________________\n",
      "max_pooling2d_1 (MaxPooling2 (None, 6, 6, 32)          0         \n",
      "_________________________________________________________________\n",
      "conv2d_2 (Conv2D)            (None, 4, 4, 64)          18496     \n",
      "_________________________________________________________________\n",
      "max_pooling2d_2 (MaxPooling2 (None, 2, 2, 64)          0         \n",
      "_________________________________________________________________\n",
      "flatten (Flatten)            (None, 256)               0         \n",
      "_________________________________________________________________\n",
      "dropout (Dropout)            (None, 256)               0         \n",
      "_________________________________________________________________\n",
      "dense (Dense)                (None, 10)                2570      \n",
      "=================================================================\n",
      "Total params: 31,210\n",
      "Trainable params: 31,210\n",
      "Non-trainable params: 0\n",
      "_________________________________________________________________\n"
     ]
    }
   ],
   "source": [
    "model.summary()"
   ]
  },
  {
   "cell_type": "code",
   "execution_count": 9,
   "metadata": {},
   "outputs": [],
   "source": [
    "opt_rms = keras.optimizers.RMSprop(lr=0.001,decay=1e-6)\n",
    "model.compile(loss='categorical_crossentropy',\n",
    "              optimizer= opt_rms,\n",
    "              metrics=['accuracy'])"
   ]
  },
  {
   "cell_type": "code",
   "execution_count": 10,
   "metadata": {},
   "outputs": [
    {
     "name": "stdout",
     "output_type": "stream",
     "text": [
      "Epoch 1/100\n",
      "1250/1250 [==============================] - 29s 24ms/step - loss: 1.7751 - accuracy: 0.3456 - val_loss: 1.4469 - val_accuracy: 0.4835\n",
      "Epoch 2/100\n",
      "1250/1250 [==============================] - 32s 25ms/step - loss: 1.4494 - accuracy: 0.4782 - val_loss: 1.3064 - val_accuracy: 0.5366\n",
      "Epoch 3/100\n",
      "1250/1250 [==============================] - 34s 27ms/step - loss: 1.3212 - accuracy: 0.5281 - val_loss: 1.2443 - val_accuracy: 0.5569\n",
      "Epoch 4/100\n",
      "1250/1250 [==============================] - 33s 26ms/step - loss: 1.2370 - accuracy: 0.5604 - val_loss: 1.1256 - val_accuracy: 0.6030\n",
      "Epoch 5/100\n",
      "1250/1250 [==============================] - 33s 27ms/step - loss: 1.1725 - accuracy: 0.5849 - val_loss: 1.1149 - val_accuracy: 0.6077\n",
      "Epoch 6/100\n",
      "1250/1250 [==============================] - 33s 27ms/step - loss: 1.1264 - accuracy: 0.6032 - val_loss: 0.9980 - val_accuracy: 0.6496\n",
      "Epoch 7/100\n",
      "1250/1250 [==============================] - 33s 27ms/step - loss: 1.0942 - accuracy: 0.6174 - val_loss: 1.0131 - val_accuracy: 0.6429\n",
      "Epoch 8/100\n",
      "1250/1250 [==============================] - 34s 27ms/step - loss: 1.0686 - accuracy: 0.6261 - val_loss: 0.9801 - val_accuracy: 0.6632\n",
      "Epoch 9/100\n",
      "1250/1250 [==============================] - 35s 28ms/step - loss: 1.0442 - accuracy: 0.6367 - val_loss: 0.9819 - val_accuracy: 0.6536\n",
      "Epoch 10/100\n",
      "1250/1250 [==============================] - 34s 27ms/step - loss: 1.0223 - accuracy: 0.6444 - val_loss: 0.9556 - val_accuracy: 0.6732\n",
      "Epoch 11/100\n",
      "1250/1250 [==============================] - 34s 27ms/step - loss: 1.0092 - accuracy: 0.6481 - val_loss: 0.9620 - val_accuracy: 0.6708\n",
      "Epoch 12/100\n",
      "1250/1250 [==============================] - 34s 27ms/step - loss: 0.9979 - accuracy: 0.6539 - val_loss: 0.9448 - val_accuracy: 0.6809\n",
      "Epoch 13/100\n",
      "1250/1250 [==============================] - 34s 27ms/step - loss: 0.9848 - accuracy: 0.6582 - val_loss: 0.9204 - val_accuracy: 0.6797\n",
      "Epoch 14/100\n",
      "1250/1250 [==============================] - 34s 27ms/step - loss: 0.9787 - accuracy: 0.6622 - val_loss: 0.8610 - val_accuracy: 0.7096\n",
      "Epoch 15/100\n",
      "1250/1250 [==============================] - 34s 27ms/step - loss: 0.9647 - accuracy: 0.6656 - val_loss: 0.9380 - val_accuracy: 0.6777\n",
      "Epoch 16/100\n",
      "1250/1250 [==============================] - 34s 27ms/step - loss: 0.9602 - accuracy: 0.6676 - val_loss: 0.8655 - val_accuracy: 0.7013\n",
      "Epoch 17/100\n",
      "1250/1250 [==============================] - 34s 28ms/step - loss: 0.9553 - accuracy: 0.6721 - val_loss: 0.9000 - val_accuracy: 0.6894\n",
      "Epoch 18/100\n",
      "1250/1250 [==============================] - 35s 28ms/step - loss: 0.9559 - accuracy: 0.6731 - val_loss: 0.9218 - val_accuracy: 0.6816\n",
      "Epoch 19/100\n",
      "1250/1250 [==============================] - 36s 28ms/step - loss: 0.9483 - accuracy: 0.6764 - val_loss: 0.9199 - val_accuracy: 0.6849\n",
      "Epoch 20/100\n",
      "1250/1250 [==============================] - 35s 28ms/step - loss: 0.9479 - accuracy: 0.6766 - val_loss: 0.8727 - val_accuracy: 0.7000\n",
      "Epoch 21/100\n",
      "1250/1250 [==============================] - 34s 27ms/step - loss: 0.9432 - accuracy: 0.6756 - val_loss: 0.9698 - val_accuracy: 0.6705\n",
      "Epoch 22/100\n",
      "1250/1250 [==============================] - 34s 27ms/step - loss: 0.9477 - accuracy: 0.6758 - val_loss: 0.9081 - val_accuracy: 0.6881\n",
      "Epoch 23/100\n",
      "1250/1250 [==============================] - 35s 28ms/step - loss: 0.9444 - accuracy: 0.6777 - val_loss: 0.8513 - val_accuracy: 0.7085\n",
      "Epoch 24/100\n",
      "1250/1250 [==============================] - 35s 28ms/step - loss: 0.9489 - accuracy: 0.6756 - val_loss: 0.8751 - val_accuracy: 0.7040\n",
      "Epoch 25/100\n",
      "1250/1250 [==============================] - 35s 28ms/step - loss: 0.9505 - accuracy: 0.6757 - val_loss: 0.9183 - val_accuracy: 0.6845\n",
      "Epoch 26/100\n",
      "1250/1250 [==============================] - 36s 29ms/step - loss: 0.9430 - accuracy: 0.6786 - val_loss: 0.9398 - val_accuracy: 0.6920\n",
      "Epoch 27/100\n",
      "1250/1250 [==============================] - 35s 28ms/step - loss: 0.9422 - accuracy: 0.6816 - val_loss: 0.9580 - val_accuracy: 0.6831\n",
      "Epoch 28/100\n",
      "1250/1250 [==============================] - 35s 28ms/step - loss: 0.9489 - accuracy: 0.6766 - val_loss: 0.9078 - val_accuracy: 0.6992\n",
      "Epoch 29/100\n",
      "1250/1250 [==============================] - 35s 28ms/step - loss: 0.9483 - accuracy: 0.6773 - val_loss: 0.8871 - val_accuracy: 0.6997\n",
      "Epoch 30/100\n",
      "1250/1250 [==============================] - 36s 29ms/step - loss: 0.9478 - accuracy: 0.6792 - val_loss: 0.9070 - val_accuracy: 0.6957\n",
      "Epoch 31/100\n",
      "1250/1250 [==============================] - 34s 28ms/step - loss: 0.9505 - accuracy: 0.6760 - val_loss: 0.9455 - val_accuracy: 0.6892\n",
      "Epoch 32/100\n",
      "1250/1250 [==============================] - 35s 28ms/step - loss: 0.9565 - accuracy: 0.6759 - val_loss: 0.9465 - val_accuracy: 0.6847\n",
      "Epoch 33/100\n",
      "1250/1250 [==============================] - 34s 28ms/step - loss: 0.9622 - accuracy: 0.6729 - val_loss: 1.0881 - val_accuracy: 0.6442\n",
      "Epoch 34/100\n",
      "1250/1250 [==============================] - 35s 28ms/step - loss: 0.9593 - accuracy: 0.6724 - val_loss: 1.0249 - val_accuracy: 0.6490\n",
      "Epoch 35/100\n",
      "1250/1250 [==============================] - 35s 28ms/step - loss: 0.9675 - accuracy: 0.6716 - val_loss: 0.9545 - val_accuracy: 0.6706\n",
      "Epoch 36/100\n",
      "1250/1250 [==============================] - 34s 28ms/step - loss: 0.9777 - accuracy: 0.6703 - val_loss: 0.8859 - val_accuracy: 0.6985\n",
      "Epoch 37/100\n",
      "1250/1250 [==============================] - 35s 28ms/step - loss: 0.9761 - accuracy: 0.6719 - val_loss: 0.9134 - val_accuracy: 0.6947\n",
      "Epoch 38/100\n",
      "1250/1250 [==============================] - 35s 28ms/step - loss: 0.9846 - accuracy: 0.6711 - val_loss: 0.9211 - val_accuracy: 0.6946\n",
      "Epoch 39/100\n",
      "1250/1250 [==============================] - 35s 28ms/step - loss: 0.9854 - accuracy: 0.6683 - val_loss: 0.9136 - val_accuracy: 0.7023\n",
      "Epoch 40/100\n",
      "1250/1250 [==============================] - 35s 28ms/step - loss: 0.9968 - accuracy: 0.6651 - val_loss: 0.9236 - val_accuracy: 0.6902\n",
      "Epoch 41/100\n",
      "1250/1250 [==============================] - 34s 28ms/step - loss: 1.0001 - accuracy: 0.6628 - val_loss: 0.9856 - val_accuracy: 0.6801\n",
      "Epoch 42/100\n",
      "1250/1250 [==============================] - 35s 28ms/step - loss: 1.0061 - accuracy: 0.6646 - val_loss: 1.0626 - val_accuracy: 0.6278\n",
      "Epoch 43/100\n",
      "1250/1250 [==============================] - 35s 28ms/step - loss: 1.0115 - accuracy: 0.6602 - val_loss: 0.9716 - val_accuracy: 0.6614\n",
      "Epoch 44/100\n",
      "1250/1250 [==============================] - 35s 28ms/step - loss: 1.0136 - accuracy: 0.6612 - val_loss: 0.9149 - val_accuracy: 0.6976\n",
      "Epoch 45/100\n",
      "1250/1250 [==============================] - 35s 28ms/step - loss: 1.0102 - accuracy: 0.6629 - val_loss: 0.9607 - val_accuracy: 0.6993\n",
      "Epoch 46/100\n",
      "1250/1250 [==============================] - 35s 28ms/step - loss: 1.0318 - accuracy: 0.6548 - val_loss: 1.0848 - val_accuracy: 0.6375\n",
      "Epoch 47/100\n",
      "1250/1250 [==============================] - 36s 29ms/step - loss: 1.0233 - accuracy: 0.6568 - val_loss: 0.9207 - val_accuracy: 0.6934\n",
      "Epoch 48/100\n",
      "1250/1250 [==============================] - 35s 28ms/step - loss: 1.0370 - accuracy: 0.6562 - val_loss: 0.9290 - val_accuracy: 0.6912\n",
      "Epoch 49/100\n",
      "1250/1250 [==============================] - 35s 28ms/step - loss: 1.0330 - accuracy: 0.6573 - val_loss: 1.0214 - val_accuracy: 0.6702\n",
      "Epoch 50/100\n",
      "1250/1250 [==============================] - 36s 28ms/step - loss: 1.0493 - accuracy: 0.6500 - val_loss: 1.0600 - val_accuracy: 0.6456\n",
      "Epoch 51/100\n",
      "1250/1250 [==============================] - 35s 28ms/step - loss: 1.0624 - accuracy: 0.6467 - val_loss: 1.0251 - val_accuracy: 0.6699\n",
      "Epoch 52/100\n",
      "1250/1250 [==============================] - 35s 28ms/step - loss: 1.0638 - accuracy: 0.6471 - val_loss: 1.0441 - val_accuracy: 0.6658\n",
      "Epoch 53/100\n",
      "1250/1250 [==============================] - 35s 28ms/step - loss: 1.0790 - accuracy: 0.6419 - val_loss: 1.0271 - val_accuracy: 0.6571\n",
      "Epoch 54/100\n",
      "1250/1250 [==============================] - 35s 28ms/step - loss: 1.0792 - accuracy: 0.6423 - val_loss: 1.1401 - val_accuracy: 0.6489\n",
      "Epoch 55/100\n",
      "1250/1250 [==============================] - 35s 28ms/step - loss: 1.0860 - accuracy: 0.6420 - val_loss: 0.9777 - val_accuracy: 0.6755\n",
      "Epoch 56/100\n",
      "1250/1250 [==============================] - 34s 27ms/step - loss: 1.0881 - accuracy: 0.6391 - val_loss: 0.9406 - val_accuracy: 0.6879\n",
      "Epoch 57/100\n",
      "1250/1250 [==============================] - 33s 27ms/step - loss: 1.1008 - accuracy: 0.6358 - val_loss: 1.1247 - val_accuracy: 0.6426\n",
      "Epoch 58/100\n",
      "1250/1250 [==============================] - 33s 27ms/step - loss: 1.1083 - accuracy: 0.6337 - val_loss: 1.3076 - val_accuracy: 0.6165\n",
      "Epoch 59/100\n",
      "1250/1250 [==============================] - 33s 26ms/step - loss: 1.1181 - accuracy: 0.6317 - val_loss: 1.0758 - val_accuracy: 0.6483\n",
      "Epoch 60/100\n",
      "1250/1250 [==============================] - 34s 27ms/step - loss: 1.1229 - accuracy: 0.6302 - val_loss: 1.1711 - val_accuracy: 0.6267\n",
      "Epoch 61/100\n",
      "1250/1250 [==============================] - 34s 27ms/step - loss: 1.1324 - accuracy: 0.6299 - val_loss: 0.9918 - val_accuracy: 0.6794\n",
      "Epoch 62/100\n",
      "1250/1250 [==============================] - 34s 27ms/step - loss: 1.1426 - accuracy: 0.6269 - val_loss: 1.0435 - val_accuracy: 0.6610\n",
      "Epoch 63/100\n",
      "1250/1250 [==============================] - 34s 27ms/step - loss: 1.1602 - accuracy: 0.6189 - val_loss: 1.0520 - val_accuracy: 0.6519\n",
      "Epoch 64/100\n",
      "1250/1250 [==============================] - 34s 27ms/step - loss: 1.1727 - accuracy: 0.6146 - val_loss: 1.1150 - val_accuracy: 0.6428\n",
      "Epoch 65/100\n",
      "1250/1250 [==============================] - 33s 27ms/step - loss: 1.1788 - accuracy: 0.6119 - val_loss: 1.0470 - val_accuracy: 0.6463\n",
      "Epoch 66/100\n",
      "1250/1250 [==============================] - 34s 27ms/step - loss: 1.1951 - accuracy: 0.6075 - val_loss: 1.0906 - val_accuracy: 0.6511\n",
      "Epoch 67/100\n",
      "1250/1250 [==============================] - 33s 27ms/step - loss: 1.1967 - accuracy: 0.6063 - val_loss: 1.2683 - val_accuracy: 0.6342\n",
      "Epoch 68/100\n",
      "1250/1250 [==============================] - 34s 27ms/step - loss: 1.2075 - accuracy: 0.6070 - val_loss: 1.0583 - val_accuracy: 0.6558\n",
      "Epoch 69/100\n",
      "1250/1250 [==============================] - 33s 27ms/step - loss: 1.2202 - accuracy: 0.5994 - val_loss: 1.1779 - val_accuracy: 0.6522\n",
      "Epoch 70/100\n",
      "1250/1250 [==============================] - 33s 27ms/step - loss: 1.2259 - accuracy: 0.5977 - val_loss: 1.1821 - val_accuracy: 0.6208\n",
      "Epoch 71/100\n",
      "1250/1250 [==============================] - 34s 27ms/step - loss: 1.2356 - accuracy: 0.5980 - val_loss: 1.1041 - val_accuracy: 0.6413\n",
      "Epoch 72/100\n",
      "1250/1250 [==============================] - 34s 27ms/step - loss: 1.2598 - accuracy: 0.5890 - val_loss: 1.0713 - val_accuracy: 0.6482\n",
      "Epoch 73/100\n",
      "1250/1250 [==============================] - 32s 25ms/step - loss: 1.2736 - accuracy: 0.5847 - val_loss: 1.1195 - val_accuracy: 0.6425\n",
      "Epoch 74/100\n",
      "1250/1250 [==============================] - 32s 25ms/step - loss: 1.2986 - accuracy: 0.5780 - val_loss: 1.3260 - val_accuracy: 0.5963\n",
      "Epoch 75/100\n",
      "1250/1250 [==============================] - 32s 25ms/step - loss: 1.3018 - accuracy: 0.5767 - val_loss: 1.3223 - val_accuracy: 0.5679\n",
      "Epoch 76/100\n",
      "1250/1250 [==============================] - 32s 25ms/step - loss: 1.3030 - accuracy: 0.5774 - val_loss: 1.0796 - val_accuracy: 0.6417\n",
      "Epoch 77/100\n",
      "1250/1250 [==============================] - 32s 25ms/step - loss: 1.3328 - accuracy: 0.5667 - val_loss: 1.2930 - val_accuracy: 0.6064\n",
      "Epoch 78/100\n",
      "1250/1250 [==============================] - 33s 27ms/step - loss: 1.3340 - accuracy: 0.5660 - val_loss: 1.2006 - val_accuracy: 0.6406\n",
      "Epoch 79/100\n",
      "1250/1250 [==============================] - 35s 28ms/step - loss: 1.3341 - accuracy: 0.5668 - val_loss: 1.1558 - val_accuracy: 0.6319\n",
      "Epoch 80/100\n",
      "1250/1250 [==============================] - 35s 28ms/step - loss: 1.3313 - accuracy: 0.5658 - val_loss: 1.1140 - val_accuracy: 0.6176\n",
      "Epoch 81/100\n",
      "1250/1250 [==============================] - 34s 27ms/step - loss: 1.3530 - accuracy: 0.5614 - val_loss: 1.1440 - val_accuracy: 0.6111\n",
      "Epoch 82/100\n",
      "1250/1250 [==============================] - 34s 27ms/step - loss: 1.3461 - accuracy: 0.5644 - val_loss: 1.2707 - val_accuracy: 0.6019\n",
      "Epoch 83/100\n",
      "1250/1250 [==============================] - 34s 27ms/step - loss: 1.3579 - accuracy: 0.5588 - val_loss: 1.2401 - val_accuracy: 0.5740\n",
      "Epoch 84/100\n",
      "1250/1250 [==============================] - 34s 27ms/step - loss: 1.3699 - accuracy: 0.5572 - val_loss: 1.1006 - val_accuracy: 0.6230\n",
      "Epoch 85/100\n",
      "1250/1250 [==============================] - 34s 28ms/step - loss: 1.3716 - accuracy: 0.5524 - val_loss: 1.3541 - val_accuracy: 0.5727\n",
      "Epoch 86/100\n",
      "1250/1250 [==============================] - 35s 28ms/step - loss: 1.3850 - accuracy: 0.5502 - val_loss: 1.4074 - val_accuracy: 0.5316\n",
      "Epoch 87/100\n",
      "1250/1250 [==============================] - 34s 28ms/step - loss: 1.3923 - accuracy: 0.5461 - val_loss: 1.2469 - val_accuracy: 0.5738\n",
      "Epoch 88/100\n",
      "1250/1250 [==============================] - 34s 27ms/step - loss: 1.4107 - accuracy: 0.5427 - val_loss: 1.2527 - val_accuracy: 0.5830\n",
      "Epoch 89/100\n",
      "1250/1250 [==============================] - 34s 28ms/step - loss: 1.4273 - accuracy: 0.5378 - val_loss: 1.2605 - val_accuracy: 0.5472\n",
      "Epoch 90/100\n",
      "1250/1250 [==============================] - 35s 28ms/step - loss: 1.4245 - accuracy: 0.5371 - val_loss: 1.1222 - val_accuracy: 0.6260\n",
      "Epoch 91/100\n",
      "1250/1250 [==============================] - 35s 28ms/step - loss: 1.4274 - accuracy: 0.5339 - val_loss: 1.2334 - val_accuracy: 0.6121\n",
      "Epoch 92/100\n",
      "1250/1250 [==============================] - 34s 27ms/step - loss: 1.4712 - accuracy: 0.5261 - val_loss: 1.3425 - val_accuracy: 0.5348\n",
      "Epoch 93/100\n",
      "1250/1250 [==============================] - 35s 28ms/step - loss: 1.4798 - accuracy: 0.5232 - val_loss: 1.4904 - val_accuracy: 0.5239\n",
      "Epoch 94/100\n",
      "1250/1250 [==============================] - 34s 27ms/step - loss: 1.5122 - accuracy: 0.5108 - val_loss: 1.1898 - val_accuracy: 0.5968\n",
      "Epoch 95/100\n",
      "1250/1250 [==============================] - 35s 28ms/step - loss: 1.5181 - accuracy: 0.5113 - val_loss: 1.2630 - val_accuracy: 0.5466\n",
      "Epoch 96/100\n",
      "1250/1250 [==============================] - 35s 28ms/step - loss: 1.5554 - accuracy: 0.4970 - val_loss: 1.3328 - val_accuracy: 0.5710\n",
      "Epoch 97/100\n",
      "1250/1250 [==============================] - 32s 26ms/step - loss: 1.5701 - accuracy: 0.4910 - val_loss: 1.3361 - val_accuracy: 0.5883\n",
      "Epoch 98/100\n",
      "1250/1250 [==============================] - 32s 25ms/step - loss: 1.5587 - accuracy: 0.4926 - val_loss: 1.2528 - val_accuracy: 0.5684\n",
      "Epoch 99/100\n",
      "1250/1250 [==============================] - 32s 26ms/step - loss: 1.5528 - accuracy: 0.4944 - val_loss: 1.3331 - val_accuracy: 0.5638\n",
      "Epoch 100/100\n",
      "1250/1250 [==============================] - 32s 25ms/step - loss: 1.5846 - accuracy: 0.4856 - val_loss: 1.3220 - val_accuracy: 0.5836\n"
     ]
    }
   ],
   "source": [
    "history = model.fit(x_train, y_train,\n",
    "          epochs=100, batch_size=40, validation_data = (x_test, y_test))"
   ]
  },
  {
   "cell_type": "code",
   "execution_count": 11,
   "metadata": {},
   "outputs": [
    {
     "data": {
      "image/png": "[encoded data removed]",
      "text/plain": [
       "<Figure size 432x288 with 1 Axes>"
      ]
     },
     "metadata": {
      "needs_background": "light"
     },
     "output_type": "display_data"
    },
    {
     "data": {
      "image/png": "[encoded data removed]",
      "text/plain": [
       "<Figure size 432x288 with 1 Axes>"
      ]
     },
     "metadata": {
      "needs_background": "light"
     },
     "output_type": "display_data"
    }
   ],
   "source": [
    "acc = history.history['accuracy']\n",
    "val_acc = history.history['val_accuracy']\n",
    "loss = history.history['loss']\n",
    "val_loss = history.history['val_loss']\n",
    "\n",
    "epochs = range(len(acc))\n",
    "\n",
    "plt.plot(epochs, acc, 'bo', label='Training acc')\n",
    "plt.plot(epochs, val_acc, 'b', label='Validation acc')\n",
    "plt.title('Training and validation accuracy')\n",
    "plt.legend()\n",
    "\n",
    "plt.figure()\n",
    "\n",
    "plt.plot(epochs, loss, 'bo', label='Training loss')\n",
    "plt.plot(epochs, val_loss, 'b', label='Validation loss')\n",
    "plt.title('Training and validation loss')\n",
    "plt.legend()\n",
    "\n",
    "plt.show()"
   ]
  },
  {
   "cell_type": "code",
   "execution_count": 37,
   "metadata": {},
   "outputs": [
    {
     "name": "stdout",
     "output_type": "stream",
     "text": [
      "Best: 0.608899 using {'batch_size': 40, 'epochs': 100}\n",
      "0.514299 (0.019556) with: {'batch_size': 10, 'epochs': 10}\n",
      "0.557298 (0.020264) with: {'batch_size': 10, 'epochs': 50}\n",
      "0.528598 (0.017161) with: {'batch_size': 10, 'epochs': 100}\n",
      "0.500498 (0.016491) with: {'batch_size': 20, 'epochs': 10}\n",
      "0.591900 (0.003676) with: {'batch_size': 20, 'epochs': 50}\n",
      "0.553300 (0.027827) with: {'batch_size': 20, 'epochs': 100}\n",
      "0.500303 (0.023472) with: {'batch_size': 40, 'epochs': 10}\n",
      "0.604500 (0.005306) with: {'batch_size': 40, 'epochs': 50}\n",
      "0.608899 (0.005427) with: {'batch_size': 40, 'epochs': 100}\n",
      "0.455500 (0.006618) with: {'batch_size': 60, 'epochs': 10}\n",
      "0.550798 (0.012598) with: {'batch_size': 60, 'epochs': 50}\n",
      "0.573397 (0.021946) with: {'batch_size': 60, 'epochs': 100}\n",
      "0.438197 (0.020600) with: {'batch_size': 80, 'epochs': 10}\n",
      "0.575601 (0.010594) with: {'batch_size': 80, 'epochs': 50}\n",
      "0.593299 (0.006443) with: {'batch_size': 80, 'epochs': 100}\n",
      "0.446900 (0.018034) with: {'batch_size': 100, 'epochs': 10}\n",
      "0.583000 (0.004992) with: {'batch_size': 100, 'epochs': 50}\n",
      "0.602099 (0.004096) with: {'batch_size': 100, 'epochs': 100}\n"
     ]
    }
   ],
   "source": [
    "# Use scikit-learn to grid search the batch size and epochs\n",
    "from sklearn.model_selection import GridSearchCV\n",
    "from keras.wrappers.scikit_learn import KerasClassifier\n",
    "\n",
    "# Function to create model, required for KerasClassifier\n",
    "def create_model():\n",
    "    # create model\n",
    "    model = Sequential()\n",
    "    model.add(layers.Conv2D(32, (3, 3), activation='relu',\n",
    "                            input_shape=(32, 32, 3)))\n",
    "    model.add(layers.MaxPooling2D((2, 2)))\n",
    "    model.add(layers.Conv2D(32, (3, 3), activation='relu'))\n",
    "    model.add(layers.MaxPooling2D((2, 2)))\n",
    "    model.add(layers.Conv2D(64, (3, 3), activation='relu'))\n",
    "    model.add(layers.MaxPooling2D((2, 2)))\n",
    "    model.add(layers.Flatten())\n",
    "    model.add(Dropout(0.5))\n",
    "    model.add(layers.Dense(10, activation='softmax'))\n",
    "    # Compile model\n",
    "    opt_rms = keras.optimizers.RMSprop(lr=0.001,decay=1e-6)\n",
    "    model.compile(loss='categorical_crossentropy',\n",
    "              optimizer= opt_rms,\n",
    "              metrics=['accuracy'])\n",
    "    return model\n",
    "# fix random seed for reproducibility\n",
    "np.random.seed(123)\n",
    "# create model\n",
    "model = KerasClassifier(build_fn=create_model, verbose=0)\n",
    "# define the grid search parameters\n",
    "batch_size = [10, 20, 40, 60, 80, 100]\n",
    "epochs = [10, 50, 100]\n",
    "param_grid = dict(batch_size=batch_size, epochs=epochs)\n",
    "grid = GridSearchCV(estimator=model, param_grid=param_grid, n_jobs=-1, cv=3)\n",
    "grid_result = grid.fit(x_test,y_test)\n",
    "# summarize results\n",
    "print(\"Best: %f using %s\" % (grid_result.best_score_, grid_result.best_params_))\n",
    "means = grid_result.cv_results_['mean_test_score']\n",
    "stds = grid_result.cv_results_['std_test_score']\n",
    "params = grid_result.cv_results_['params']\n",
    "for mean, stdev, param in zip(means, stds, params):\n",
    "    print(\"%f (%f) with: %r\" % (mean, stdev, param))"
   ]
  },
  {
   "cell_type": "code",
   "execution_count": null,
   "metadata": {},
   "outputs": [],
   "source": []
  }
 ],
 "metadata": {
  "kernelspec": {
   "display_name": "Python 3",
   "language": "python",
   "name": "python3"
  },
  "language_info": {
   "codemirror_mode": {
    "name": "ipython",
    "version": 3
   },
   "file_extension": ".py",
   "mimetype": "text/x-python",
   "name": "python",
   "nbconvert_exporter": "python",
   "pygments_lexer": "ipython3",
   "version": "3.8.3"
  }
 },
 "nbformat": 4,
 "nbformat_minor": 4
}
